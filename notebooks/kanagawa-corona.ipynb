{
 "cells": [
  {
   "cell_type": "markdown",
   "metadata": {},
   "source": [
    "# 神奈川県のコロナデータ分析"
   ]
  },
  {
   "cell_type": "code",
   "execution_count": 1,
   "metadata": {},
   "outputs": [],
   "source": [
    "import datetime as dt\n",
    "import pandas as pd\n",
    "\n",
    "import seaborn as sns\n",
    "import matplotlib.pyplot as plt"
   ]
  },
  {
   "cell_type": "code",
   "execution_count": 2,
   "metadata": {},
   "outputs": [
    {
     "data": {
      "text/plain": [
       "<Figure size 864x432 with 0 Axes>"
      ]
     },
     "metadata": {},
     "output_type": "display_data"
    }
   ],
   "source": [
    "sns.set_style(style=\"darkgrid\", rc=None)\n",
    "sns.set(font_scale = 1.2)\n",
    "plt.figure(figsize=(12, 6))\n",
    "\n",
    "import japanize_matplotlib"
   ]
  },
  {
   "cell_type": "code",
   "execution_count": 3,
   "metadata": {},
   "outputs": [
    {
     "name": "stdout",
     "output_type": "stream",
     "text": [
      "/home/tsu-nera/repo/hack-for-corona\n"
     ]
    }
   ],
   "source": [
    "import sys\n",
    "sys.path.append('../')\n",
    "%cd '../'\n",
    "\n",
    "import src.tool as tool\n",
    "\n",
    "%reload_ext autoreload\n",
    "%autoreload 2"
   ]
  },
  {
   "cell_type": "code",
   "execution_count": 4,
   "metadata": {},
   "outputs": [],
   "source": [
    "patients = tool.read_patients()"
   ]
  },
  {
   "cell_type": "code",
   "execution_count": 5,
   "metadata": {
    "scrolled": true
   },
   "outputs": [
    {
     "data": {
      "text/html": [
       "<div>\n",
       "<style scoped>\n",
       "    .dataframe tbody tr th:only-of-type {\n",
       "        vertical-align: middle;\n",
       "    }\n",
       "\n",
       "    .dataframe tbody tr th {\n",
       "        vertical-align: top;\n",
       "    }\n",
       "\n",
       "    .dataframe thead th {\n",
       "        text-align: right;\n",
       "    }\n",
       "</style>\n",
       "<table border=\"1\" class=\"dataframe\">\n",
       "  <thead>\n",
       "    <tr style=\"text-align: right;\">\n",
       "      <th></th>\n",
       "      <th>感染例番号</th>\n",
       "      <th>情報公開日</th>\n",
       "      <th>発病確認日</th>\n",
       "      <th>年代</th>\n",
       "      <th>性別</th>\n",
       "      <th>職業</th>\n",
       "      <th>居住地</th>\n",
       "      <th>備考</th>\n",
       "      <th>情報元</th>\n",
       "    </tr>\n",
       "  </thead>\n",
       "  <tbody>\n",
       "    <tr>\n",
       "      <th>123</th>\n",
       "      <td>124</td>\n",
       "      <td>2020-03-29</td>\n",
       "      <td>2020-03-28</td>\n",
       "      <td>20代</td>\n",
       "      <td>男性</td>\n",
       "      <td>会社員</td>\n",
       "      <td>神奈川県横浜市</td>\n",
       "      <td>NaN</td>\n",
       "      <td>https://www.pref.kanagawa.jp/documents/58277/2...</td>\n",
       "    </tr>\n",
       "    <tr>\n",
       "      <th>124</th>\n",
       "      <td>125</td>\n",
       "      <td>2020-03-29</td>\n",
       "      <td>2020-03-29</td>\n",
       "      <td>60代</td>\n",
       "      <td>男性</td>\n",
       "      <td>会社員</td>\n",
       "      <td>神奈川県横浜市</td>\n",
       "      <td>NaN</td>\n",
       "      <td>https://www.pref.kanagawa.jp/documents/58277/2...</td>\n",
       "    </tr>\n",
       "    <tr>\n",
       "      <th>125</th>\n",
       "      <td>126</td>\n",
       "      <td>2020-03-29</td>\n",
       "      <td>2020-03-29</td>\n",
       "      <td>30代</td>\n",
       "      <td>男性</td>\n",
       "      <td>理学療法士</td>\n",
       "      <td>神奈川県横須賀市</td>\n",
       "      <td>NaN</td>\n",
       "      <td>https://www.city.yokosuka.kanagawa.jp/3130/nag...</td>\n",
       "    </tr>\n",
       "    <tr>\n",
       "      <th>126</th>\n",
       "      <td>127</td>\n",
       "      <td>2020-03-29</td>\n",
       "      <td>2020-03-29</td>\n",
       "      <td>60代</td>\n",
       "      <td>女性</td>\n",
       "      <td>無職</td>\n",
       "      <td>神奈川県横須賀市</td>\n",
       "      <td>NaN</td>\n",
       "      <td>https://www.city.yokosuka.kanagawa.jp/3130/nag...</td>\n",
       "    </tr>\n",
       "    <tr>\n",
       "      <th>127</th>\n",
       "      <td>128</td>\n",
       "      <td>2020-03-30</td>\n",
       "      <td>2020-03-30</td>\n",
       "      <td>20代</td>\n",
       "      <td>女性</td>\n",
       "      <td>NaN</td>\n",
       "      <td>神奈川県相模原市</td>\n",
       "      <td>NaN</td>\n",
       "      <td>https://www.pref.kanagawa.jp/documents/58277/2...</td>\n",
       "    </tr>\n",
       "  </tbody>\n",
       "</table>\n",
       "</div>"
      ],
      "text/plain": [
       "     感染例番号       情報公開日       発病確認日   年代  性別     職業       居住地   備考  \\\n",
       "123    124  2020-03-29  2020-03-28  20代  男性    会社員   神奈川県横浜市  NaN   \n",
       "124    125  2020-03-29  2020-03-29  60代  男性    会社員   神奈川県横浜市  NaN   \n",
       "125    126  2020-03-29  2020-03-29  30代  男性  理学療法士  神奈川県横須賀市  NaN   \n",
       "126    127  2020-03-29  2020-03-29  60代  女性     無職  神奈川県横須賀市  NaN   \n",
       "127    128  2020-03-30  2020-03-30  20代  女性    NaN  神奈川県相模原市  NaN   \n",
       "\n",
       "                                                   情報元  \n",
       "123  https://www.pref.kanagawa.jp/documents/58277/2...  \n",
       "124  https://www.pref.kanagawa.jp/documents/58277/2...  \n",
       "125  https://www.city.yokosuka.kanagawa.jp/3130/nag...  \n",
       "126  https://www.city.yokosuka.kanagawa.jp/3130/nag...  \n",
       "127  https://www.pref.kanagawa.jp/documents/58277/2...  "
      ]
     },
     "execution_count": 5,
     "metadata": {},
     "output_type": "execute_result"
    }
   ],
   "source": [
    "patients.tail(5)"
   ]
  },
  {
   "cell_type": "code",
   "execution_count": 6,
   "metadata": {},
   "outputs": [],
   "source": [
    "patients = tool.read_patients()"
   ]
  },
  {
   "cell_type": "code",
   "execution_count": 7,
   "metadata": {},
   "outputs": [],
   "source": [
    "patients = patients.drop([\"備考\", \"情報元\"], axis=1)\n",
    "patients[\"id\"] = patients.index"
   ]
  },
  {
   "cell_type": "code",
   "execution_count": 8,
   "metadata": {},
   "outputs": [
    {
     "name": "stdout",
     "output_type": "stream",
     "text": [
      "神奈川県の感染者 128人(2020-03-30現在)\n"
     ]
    }
   ],
   "source": [
    "n = len(patients)\n",
    "latest_date = patients.iloc[-1][\"情報公開日\"]\n",
    "print(\"神奈川県の感染者 {}人({}現在)\".format(n, latest_date))"
   ]
  },
  {
   "cell_type": "markdown",
   "metadata": {},
   "source": [
    "## 感染者数の時系列推移"
   ]
  },
  {
   "cell_type": "code",
   "execution_count": 9,
   "metadata": {},
   "outputs": [],
   "source": [
    "time_df = patients"
   ]
  },
  {
   "cell_type": "code",
   "execution_count": 10,
   "metadata": {},
   "outputs": [],
   "source": [
    "time_df.index = pd.to_datetime(patients[\"発病確認日\"])\n",
    "time_df[\"date\"] = pd.to_datetime(patients[\"発病確認日\"])\n",
    "time_df[\"year\"] = time_df.index.year\n",
    "time_df[\"month\"] = time_df.index.month\n",
    "time_df[\"week_of_month\"] = time_df.index.week\n",
    "time_df[\"year_and_wom\"] = time_df.index.strftime('%Y-W%W')\n",
    "time_df[\"year_and_month\"] = time_df.index.strftime('%Y-%m')\n",
    "\n",
    "time_df = patients.sort_values(\"date\")"
   ]
  },
  {
   "cell_type": "code",
   "execution_count": 11,
   "metadata": {},
   "outputs": [],
   "source": [
    "start_date=time_df.iloc[0][\"date\"]\n",
    "end_date=time_df.iloc[-1][\"date\"]"
   ]
  },
  {
   "cell_type": "code",
   "execution_count": 12,
   "metadata": {},
   "outputs": [],
   "source": [
    "date=start_date\n",
    "dates=[]\n",
    "while date <= end_date:\n",
    "    dates.append(date)\n",
    "    date += dt.timedelta(days=1)\n",
    "    \n",
    "dates2=[]\n",
    "i=0\n",
    "date=start_date\n",
    "while date <= end_date:\n",
    "    if i%7 == 0:\n",
    "        dates2.append(date.strftime('%Y-%m-%d'))\n",
    "    else:\n",
    "        dates2.append(None)\n",
    "    i+=1\n",
    "    date += dt.timedelta(days=1)"
   ]
  },
  {
   "cell_type": "markdown",
   "metadata": {},
   "source": [
    "### 日別"
   ]
  },
  {
   "cell_type": "code",
   "execution_count": 13,
   "metadata": {},
   "outputs": [
    {
     "data": {
      "image/png": "[encoded data removed]",
      "text/plain": [
       "<Figure size 864x432 with 1 Axes>"
      ]
     },
     "metadata": {},
     "output_type": "display_data"
    }
   ],
   "source": [
    "fig,ax = plt.subplots(figsize=(12, 6))\n",
    "\n",
    "ax = sns.countplot(x=\"date\", data=time_df, color=\"red\", order=dates, ax=ax)\n",
    "\n",
    "ax.set_xticklabels(dates2, rotation=40, ha=\"right\", fontsize=10)\n",
    "ax.set_xlabel('日付')\n",
    "ax.set_ylabel('感染者数')\n",
    "\n",
    "plt.tight_layout()\n",
    "plt.show()"
   ]
  },
  {
   "cell_type": "markdown",
   "metadata": {},
   "source": [
    "### 累計"
   ]
  },
  {
   "cell_type": "code",
   "execution_count": 14,
   "metadata": {},
   "outputs": [],
   "source": [
    "df_days = time_df.groupby(\"date\").count()"
   ]
  },
  {
   "cell_type": "code",
   "execution_count": 15,
   "metadata": {},
   "outputs": [],
   "source": [
    "df_days[\"date\"] = pd.to_datetime(df_days.index)\n",
    "df_days[\"count\"] = df_days[\"id\"].cumsum()"
   ]
  },
  {
   "cell_type": "code",
   "execution_count": 16,
   "metadata": {
    "scrolled": true
   },
   "outputs": [
    {
     "data": {
      "text/plain": [
       "Text(0, 0.5, '感染者数')"
      ]
     },
     "execution_count": 16,
     "metadata": {},
     "output_type": "execute_result"
    },
    {
     "data": {
      "image/png": "[encoded data removed]",
      "text/plain": [
       "<Figure size 1008x288 with 1 Axes>"
      ]
     },
     "metadata": {},
     "output_type": "display_data"
    }
   ],
   "source": [
    "fig,ax = plt.subplots(figsize=(14, 4))\n",
    "\n",
    "ax = sns.barplot(x=\"date\", y=\"count\", data=df_days, ax=ax, color=\"yellow\", order=dates)\n",
    "\n",
    "ax.set_xticklabels(dates2, rotation=40, ha=\"right\", fontsize=10)\n",
    "ax.set_xlabel('日付')\n",
    "ax.set_ylabel('感染者数')"
   ]
  },
  {
   "cell_type": "markdown",
   "metadata": {},
   "source": [
    "### 週別"
   ]
  },
  {
   "cell_type": "code",
   "execution_count": 17,
   "metadata": {},
   "outputs": [],
   "source": [
    "groupby = time_df.groupby('year_and_wom')"
   ]
  },
  {
   "cell_type": "code",
   "execution_count": 18,
   "metadata": {},
   "outputs": [],
   "source": [
    "df_by_week = pd.DataFrame()\n",
    "df_by_week[\"感染者数\"] = groupby[\"id\"].count()\n",
    "df_by_week[\"累積感染者数\"] = groupby[\"id\"].count().cumsum()\n",
    "df_by_week[\"週番号\"] = df_by_week.index"
   ]
  },
  {
   "cell_type": "code",
   "execution_count": 19,
   "metadata": {},
   "outputs": [
    {
     "data": {
      "text/plain": [
       "Text(0, 0.5, '感染者数')"
      ]
     },
     "execution_count": 19,
     "metadata": {},
     "output_type": "execute_result"
    },
    {
     "data": {
      "image/png": "[encoded data removed]",
      "text/plain": [
       "<Figure size 864x288 with 1 Axes>"
      ]
     },
     "metadata": {},
     "output_type": "display_data"
    }
   ],
   "source": [
    "fig,ax = plt.subplots(figsize=(12, 4))\n",
    "\n",
    "ax = sns.barplot(x=\"週番号\", y=\"感染者数\", data=df_by_week, ax=ax, color=\"blue\")\n",
    "\n",
    "ax.set_xticklabels(ax.get_xticklabels(), rotation=40, ha=\"right\", fontsize=10)\n",
    "ax.set_xlabel('週番号')\n",
    "ax.set_ylabel('感染者数')"
   ]
  },
  {
   "cell_type": "code",
   "execution_count": 20,
   "metadata": {},
   "outputs": [
    {
     "data": {
      "text/html": [
       "<div>\n",
       "<style scoped>\n",
       "    .dataframe tbody tr th:only-of-type {\n",
       "        vertical-align: middle;\n",
       "    }\n",
       "\n",
       "    .dataframe tbody tr th {\n",
       "        vertical-align: top;\n",
       "    }\n",
       "\n",
       "    .dataframe thead th {\n",
       "        text-align: right;\n",
       "    }\n",
       "</style>\n",
       "<table border=\"1\" class=\"dataframe\">\n",
       "  <thead>\n",
       "    <tr style=\"text-align: right;\">\n",
       "      <th></th>\n",
       "      <th>感染者数</th>\n",
       "      <th>累積感染者数</th>\n",
       "    </tr>\n",
       "    <tr>\n",
       "      <th>週別</th>\n",
       "      <th></th>\n",
       "      <th></th>\n",
       "    </tr>\n",
       "  </thead>\n",
       "  <tbody>\n",
       "    <tr>\n",
       "      <th>2020-W02</th>\n",
       "      <td>1</td>\n",
       "      <td>1</td>\n",
       "    </tr>\n",
       "    <tr>\n",
       "      <th>2020-W06</th>\n",
       "      <td>4</td>\n",
       "      <td>5</td>\n",
       "    </tr>\n",
       "    <tr>\n",
       "      <th>2020-W07</th>\n",
       "      <td>13</td>\n",
       "      <td>18</td>\n",
       "    </tr>\n",
       "    <tr>\n",
       "      <th>2020-W08</th>\n",
       "      <td>10</td>\n",
       "      <td>28</td>\n",
       "    </tr>\n",
       "    <tr>\n",
       "      <th>2020-W09</th>\n",
       "      <td>15</td>\n",
       "      <td>43</td>\n",
       "    </tr>\n",
       "    <tr>\n",
       "      <th>2020-W10</th>\n",
       "      <td>15</td>\n",
       "      <td>58</td>\n",
       "    </tr>\n",
       "    <tr>\n",
       "      <th>2020-W11</th>\n",
       "      <td>21</td>\n",
       "      <td>79</td>\n",
       "    </tr>\n",
       "    <tr>\n",
       "      <th>2020-W12</th>\n",
       "      <td>48</td>\n",
       "      <td>127</td>\n",
       "    </tr>\n",
       "    <tr>\n",
       "      <th>2020-W13</th>\n",
       "      <td>1</td>\n",
       "      <td>128</td>\n",
       "    </tr>\n",
       "  </tbody>\n",
       "</table>\n",
       "</div>"
      ],
      "text/plain": [
       "          感染者数  累積感染者数\n",
       "週別                    \n",
       "2020-W02     1       1\n",
       "2020-W06     4       5\n",
       "2020-W07    13      18\n",
       "2020-W08    10      28\n",
       "2020-W09    15      43\n",
       "2020-W10    15      58\n",
       "2020-W11    21      79\n",
       "2020-W12    48     127\n",
       "2020-W13     1     128"
      ]
     },
     "execution_count": 20,
     "metadata": {},
     "output_type": "execute_result"
    }
   ],
   "source": [
    "df_by_week.drop([\"週番号\"], axis=1, inplace=True)\n",
    "df_by_week.index.name = '週別'\n",
    "df_by_week"
   ]
  },
  {
   "cell_type": "markdown",
   "metadata": {},
   "source": [
    "### 月別"
   ]
  },
  {
   "cell_type": "code",
   "execution_count": 21,
   "metadata": {},
   "outputs": [],
   "source": [
    "groupby = time_df.groupby('year_and_month')"
   ]
  },
  {
   "cell_type": "code",
   "execution_count": 22,
   "metadata": {},
   "outputs": [],
   "source": [
    "df_by_month = pd.DataFrame()\n",
    "df_by_month[\"感染者数\"] = groupby[\"id\"].count()\n",
    "df_by_month[\"累積感染者数\"] = groupby[\"id\"].count().cumsum()\n",
    "df_by_month[\"年月\"] = df_by_month.index"
   ]
  },
  {
   "cell_type": "code",
   "execution_count": 23,
   "metadata": {},
   "outputs": [
    {
     "data": {
      "text/plain": [
       "Text(0, 0.5, '感染者数')"
      ]
     },
     "execution_count": 23,
     "metadata": {},
     "output_type": "execute_result"
    },
    {
     "data": {
      "image/png": "[encoded data removed]",
      "text/plain": [
       "<Figure size 864x288 with 1 Axes>"
      ]
     },
     "metadata": {},
     "output_type": "display_data"
    }
   ],
   "source": [
    "fig,ax = plt.subplots(figsize=(12, 4))\n",
    "\n",
    "ax = sns.barplot(x=\"年月\", y=\"感染者数\", data=df_by_month, ax=ax, color=\"green\")\n",
    "\n",
    "ax.set_xticklabels(ax.get_xticklabels(), rotation=40, ha=\"right\", fontsize=10)\n",
    "ax.set_xlabel('年月')\n",
    "ax.set_ylabel('感染者数')"
   ]
  },
  {
   "cell_type": "code",
   "execution_count": 24,
   "metadata": {},
   "outputs": [
    {
     "data": {
      "text/html": [
       "<div>\n",
       "<style scoped>\n",
       "    .dataframe tbody tr th:only-of-type {\n",
       "        vertical-align: middle;\n",
       "    }\n",
       "\n",
       "    .dataframe tbody tr th {\n",
       "        vertical-align: top;\n",
       "    }\n",
       "\n",
       "    .dataframe thead th {\n",
       "        text-align: right;\n",
       "    }\n",
       "</style>\n",
       "<table border=\"1\" class=\"dataframe\">\n",
       "  <thead>\n",
       "    <tr style=\"text-align: right;\">\n",
       "      <th></th>\n",
       "      <th>感染者数</th>\n",
       "      <th>累積感染者数</th>\n",
       "    </tr>\n",
       "    <tr>\n",
       "      <th>月別</th>\n",
       "      <th></th>\n",
       "      <th></th>\n",
       "    </tr>\n",
       "  </thead>\n",
       "  <tbody>\n",
       "    <tr>\n",
       "      <th>2020-01</th>\n",
       "      <td>1</td>\n",
       "      <td>1</td>\n",
       "    </tr>\n",
       "    <tr>\n",
       "      <th>2020-02</th>\n",
       "      <td>25</td>\n",
       "      <td>26</td>\n",
       "    </tr>\n",
       "    <tr>\n",
       "      <th>2020-03</th>\n",
       "      <td>102</td>\n",
       "      <td>128</td>\n",
       "    </tr>\n",
       "  </tbody>\n",
       "</table>\n",
       "</div>"
      ],
      "text/plain": [
       "         感染者数  累積感染者数\n",
       "月別                   \n",
       "2020-01     1       1\n",
       "2020-02    25      26\n",
       "2020-03   102     128"
      ]
     },
     "execution_count": 24,
     "metadata": {},
     "output_type": "execute_result"
    }
   ],
   "source": [
    "df_by_month.drop([\"年月\"], axis=1, inplace=True)\n",
    "df_by_month.index.name = '月別'\n",
    "df_by_month"
   ]
  },
  {
   "cell_type": "markdown",
   "metadata": {},
   "source": [
    "## 属性別感染者数"
   ]
  },
  {
   "cell_type": "markdown",
   "metadata": {},
   "source": [
    "### 地域別"
   ]
  },
  {
   "cell_type": "code",
   "execution_count": 25,
   "metadata": {},
   "outputs": [],
   "source": [
    "area = patients\n",
    "area[\"居住地\"] = patients[\"居住地\"].apply(tool.cut_ku)\n",
    "area_df = area.groupby(\"居住地\").count().sort_values(\"id\", ascending=False)[\"id\"].to_frame()\n",
    "area_df.rename(columns={\"id\": \"感染者数\"}, inplace=True)"
   ]
  },
  {
   "cell_type": "code",
   "execution_count": 26,
   "metadata": {},
   "outputs": [
    {
     "data": {
      "text/html": [
       "<div>\n",
       "<style scoped>\n",
       "    .dataframe tbody tr th:only-of-type {\n",
       "        vertical-align: middle;\n",
       "    }\n",
       "\n",
       "    .dataframe tbody tr th {\n",
       "        vertical-align: top;\n",
       "    }\n",
       "\n",
       "    .dataframe thead th {\n",
       "        text-align: right;\n",
       "    }\n",
       "</style>\n",
       "<table border=\"1\" class=\"dataframe\">\n",
       "  <thead>\n",
       "    <tr style=\"text-align: right;\">\n",
       "      <th></th>\n",
       "      <th>感染者数</th>\n",
       "    </tr>\n",
       "    <tr>\n",
       "      <th>居住地</th>\n",
       "      <th></th>\n",
       "    </tr>\n",
       "  </thead>\n",
       "  <tbody>\n",
       "    <tr>\n",
       "      <th>神奈川県相模原市</th>\n",
       "      <td>29</td>\n",
       "    </tr>\n",
       "    <tr>\n",
       "      <th>神奈川県横浜市</th>\n",
       "      <td>27</td>\n",
       "    </tr>\n",
       "    <tr>\n",
       "      <th>神奈川県川崎市</th>\n",
       "      <td>18</td>\n",
       "    </tr>\n",
       "    <tr>\n",
       "      <th>神奈川県平塚保健福祉事務所管内</th>\n",
       "      <td>12</td>\n",
       "    </tr>\n",
       "    <tr>\n",
       "      <th>神奈川県鎌倉保健福祉事務所管内</th>\n",
       "      <td>10</td>\n",
       "    </tr>\n",
       "    <tr>\n",
       "      <th>神奈川県厚木保健福祉事務所管内</th>\n",
       "      <td>9</td>\n",
       "    </tr>\n",
       "    <tr>\n",
       "      <th>神奈川県横須賀市</th>\n",
       "      <td>7</td>\n",
       "    </tr>\n",
       "    <tr>\n",
       "      <th>神奈川県藤沢市</th>\n",
       "      <td>6</td>\n",
       "    </tr>\n",
       "    <tr>\n",
       "      <th>神奈川県</th>\n",
       "      <td>4</td>\n",
       "    </tr>\n",
       "    <tr>\n",
       "      <th>神奈川県小田原保健福祉事務所管内</th>\n",
       "      <td>3</td>\n",
       "    </tr>\n",
       "    <tr>\n",
       "      <th>市外</th>\n",
       "      <td>1</td>\n",
       "    </tr>\n",
       "    <tr>\n",
       "      <th>神奈川県茅ヶ崎市</th>\n",
       "      <td>1</td>\n",
       "    </tr>\n",
       "    <tr>\n",
       "      <th>神奈川県茅ヶ崎市保健所管内</th>\n",
       "      <td>1</td>\n",
       "    </tr>\n",
       "  </tbody>\n",
       "</table>\n",
       "</div>"
      ],
      "text/plain": [
       "                  感染者数\n",
       "居住地                   \n",
       "神奈川県相模原市            29\n",
       "神奈川県横浜市             27\n",
       "神奈川県川崎市             18\n",
       "神奈川県平塚保健福祉事務所管内     12\n",
       "神奈川県鎌倉保健福祉事務所管内     10\n",
       "神奈川県厚木保健福祉事務所管内      9\n",
       "神奈川県横須賀市             7\n",
       "神奈川県藤沢市              6\n",
       "神奈川県                 4\n",
       "神奈川県小田原保健福祉事務所管内     3\n",
       "市外                   1\n",
       "神奈川県茅ヶ崎市             1\n",
       "神奈川県茅ヶ崎市保健所管内        1"
      ]
     },
     "execution_count": 26,
     "metadata": {},
     "output_type": "execute_result"
    }
   ],
   "source": [
    "area_df"
   ]
  },
  {
   "cell_type": "code",
   "execution_count": 27,
   "metadata": {},
   "outputs": [
    {
     "data": {
      "image/png": "[encoded data removed]",
      "text/plain": [
       "<Figure size 864x432 with 1 Axes>"
      ]
     },
     "metadata": {},
     "output_type": "display_data"
    }
   ],
   "source": [
    "plt.figure(figsize=(12, 6))\n",
    "ax = sns.countplot(x=\"居住地\", data=area, order=area['居住地'].value_counts(ascending=True).index)\n",
    "\n",
    "ax.set_xticklabels(ax.get_xticklabels(), rotation=40, ha=\"right\", fontsize=14)\n",
    "ax.set_xlabel('居住地',fontsize=14)\n",
    "ax.set_ylabel('感染者数',fontsize=14)\n",
    "\n",
    "plt.tight_layout()\n",
    "plt.show()"
   ]
  },
  {
   "cell_type": "markdown",
   "metadata": {},
   "source": [
    "### 年代別"
   ]
  },
  {
   "cell_type": "code",
   "execution_count": 28,
   "metadata": {},
   "outputs": [],
   "source": [
    "age = patients\n",
    "age_df = age.groupby(\"年代\").count()[\"id\"].to_frame()\n",
    "age_df.rename(columns={\"id\": \"感染者数\"}, inplace=True)"
   ]
  },
  {
   "cell_type": "code",
   "execution_count": 29,
   "metadata": {},
   "outputs": [
    {
     "data": {
      "text/html": [
       "<div>\n",
       "<style scoped>\n",
       "    .dataframe tbody tr th:only-of-type {\n",
       "        vertical-align: middle;\n",
       "    }\n",
       "\n",
       "    .dataframe tbody tr th {\n",
       "        vertical-align: top;\n",
       "    }\n",
       "\n",
       "    .dataframe thead th {\n",
       "        text-align: right;\n",
       "    }\n",
       "</style>\n",
       "<table border=\"1\" class=\"dataframe\">\n",
       "  <thead>\n",
       "    <tr style=\"text-align: right;\">\n",
       "      <th></th>\n",
       "      <th>感染者数</th>\n",
       "    </tr>\n",
       "    <tr>\n",
       "      <th>年代</th>\n",
       "      <th></th>\n",
       "    </tr>\n",
       "  </thead>\n",
       "  <tbody>\n",
       "    <tr>\n",
       "      <th>10代</th>\n",
       "      <td>1</td>\n",
       "    </tr>\n",
       "    <tr>\n",
       "      <th>20代</th>\n",
       "      <td>25</td>\n",
       "    </tr>\n",
       "    <tr>\n",
       "      <th>30代</th>\n",
       "      <td>18</td>\n",
       "    </tr>\n",
       "    <tr>\n",
       "      <th>40代</th>\n",
       "      <td>17</td>\n",
       "    </tr>\n",
       "    <tr>\n",
       "      <th>50代</th>\n",
       "      <td>18</td>\n",
       "    </tr>\n",
       "    <tr>\n",
       "      <th>60代</th>\n",
       "      <td>18</td>\n",
       "    </tr>\n",
       "    <tr>\n",
       "      <th>70代</th>\n",
       "      <td>15</td>\n",
       "    </tr>\n",
       "    <tr>\n",
       "      <th>80代</th>\n",
       "      <td>8</td>\n",
       "    </tr>\n",
       "    <tr>\n",
       "      <th>90代</th>\n",
       "      <td>3</td>\n",
       "    </tr>\n",
       "  </tbody>\n",
       "</table>\n",
       "</div>"
      ],
      "text/plain": [
       "     感染者数\n",
       "年代       \n",
       "10代     1\n",
       "20代    25\n",
       "30代    18\n",
       "40代    17\n",
       "50代    18\n",
       "60代    18\n",
       "70代    15\n",
       "80代     8\n",
       "90代     3"
      ]
     },
     "execution_count": 29,
     "metadata": {},
     "output_type": "execute_result"
    }
   ],
   "source": [
    "age_df"
   ]
  },
  {
   "cell_type": "code",
   "execution_count": 30,
   "metadata": {},
   "outputs": [
    {
     "data": {
      "image/png": "[encoded data removed]",
      "text/plain": [
       "<Figure size 864x288 with 1 Axes>"
      ]
     },
     "metadata": {},
     "output_type": "display_data"
    }
   ],
   "source": [
    "plt.figure(figsize=(12, 4))\n",
    "ax = sns.countplot(x=\"年代\", data=age, order=[\"10代\", \"20代\", \"30代\", \"40代\", \"50代\", \"60代\", \"70代\", \"80代\", \"90代\"])\n",
    "\n",
    "ax.set_xticklabels(ax.get_xticklabels(), fontsize=14)\n",
    "\n",
    "ax.set_xlabel('年代',fontsize=14)\n",
    "ax.set_ylabel('感染者数',fontsize=14)\n",
    "\n",
    "plt.tight_layout()\n",
    "plt.show()"
   ]
  },
  {
   "cell_type": "markdown",
   "metadata": {},
   "source": [
    "### 男女別"
   ]
  },
  {
   "cell_type": "code",
   "execution_count": 31,
   "metadata": {},
   "outputs": [],
   "source": [
    "sex_df = patients\n",
    "sex_df = sex_df.groupby(\"性別\").count()[\"id\"].to_frame()\n",
    "sex_df.rename(columns={\"id\": \"感染者数\"}, inplace=True)"
   ]
  },
  {
   "cell_type": "code",
   "execution_count": 32,
   "metadata": {},
   "outputs": [
    {
     "data": {
      "text/html": [
       "<div>\n",
       "<style scoped>\n",
       "    .dataframe tbody tr th:only-of-type {\n",
       "        vertical-align: middle;\n",
       "    }\n",
       "\n",
       "    .dataframe tbody tr th {\n",
       "        vertical-align: top;\n",
       "    }\n",
       "\n",
       "    .dataframe thead th {\n",
       "        text-align: right;\n",
       "    }\n",
       "</style>\n",
       "<table border=\"1\" class=\"dataframe\">\n",
       "  <thead>\n",
       "    <tr style=\"text-align: right;\">\n",
       "      <th></th>\n",
       "      <th>感染者数</th>\n",
       "    </tr>\n",
       "    <tr>\n",
       "      <th>性別</th>\n",
       "      <th></th>\n",
       "    </tr>\n",
       "  </thead>\n",
       "  <tbody>\n",
       "    <tr>\n",
       "      <th>女性</th>\n",
       "      <td>46</td>\n",
       "    </tr>\n",
       "    <tr>\n",
       "      <th>男性</th>\n",
       "      <td>78</td>\n",
       "    </tr>\n",
       "  </tbody>\n",
       "</table>\n",
       "</div>"
      ],
      "text/plain": [
       "    感染者数\n",
       "性別      \n",
       "女性    46\n",
       "男性    78"
      ]
     },
     "execution_count": 32,
     "metadata": {},
     "output_type": "execute_result"
    }
   ],
   "source": [
    "sex_df"
   ]
  },
  {
   "cell_type": "code",
   "execution_count": 33,
   "metadata": {},
   "outputs": [
    {
     "data": {
      "text/plain": [
       "<matplotlib.axes._subplots.AxesSubplot at 0x7f97e0d488d0>"
      ]
     },
     "execution_count": 33,
     "metadata": {},
     "output_type": "execute_result"
    },
    {
     "data": {
      "image/png": "[encoded data removed]",
      "text/plain": [
       "<Figure size 432x288 with 1 Axes>"
      ]
     },
     "metadata": {},
     "output_type": "display_data"
    }
   ],
   "source": [
    "sex_df.plot.bar()"
   ]
  },
  {
   "cell_type": "markdown",
   "metadata": {},
   "source": [
    "## 職種別"
   ]
  },
  {
   "cell_type": "code",
   "execution_count": 34,
   "metadata": {},
   "outputs": [],
   "source": [
    "work_df = patients"
   ]
  },
  {
   "cell_type": "code",
   "execution_count": 35,
   "metadata": {},
   "outputs": [
    {
     "data": {
      "image/png": "[encoded data removed]",
      "text/plain": [
       "<Figure size 864x288 with 1 Axes>"
      ]
     },
     "metadata": {},
     "output_type": "display_data"
    }
   ],
   "source": [
    "plt.figure(figsize=(12, 4))\n",
    "ax = sns.countplot(x=\"職業\", data=patients, order=patients['職業'].value_counts(ascending=True).index)\n",
    "\n",
    "ax.set_xticklabels(ax.get_xticklabels(), rotation=40, ha=\"right\", fontsize=14)\n",
    "\n",
    "ax.set_xlabel('職業',fontsize=14)\n",
    "ax.set_ylabel('感染者数',fontsize=14)\n",
    "\n",
    "plt.tight_layout()\n",
    "plt.show()"
   ]
  },
  {
   "cell_type": "code",
   "execution_count": 36,
   "metadata": {},
   "outputs": [],
   "source": [
    "work_df = work_df.groupby(\"職業\").count()[\"id\"].to_frame()\n",
    "work_df.rename(columns={\"id\": \"感染者数\"}, inplace=True)"
   ]
  },
  {
   "cell_type": "code",
   "execution_count": 37,
   "metadata": {
    "scrolled": true
   },
   "outputs": [
    {
     "data": {
      "text/html": [
       "<div>\n",
       "<style scoped>\n",
       "    .dataframe tbody tr th:only-of-type {\n",
       "        vertical-align: middle;\n",
       "    }\n",
       "\n",
       "    .dataframe tbody tr th {\n",
       "        vertical-align: top;\n",
       "    }\n",
       "\n",
       "    .dataframe thead th {\n",
       "        text-align: right;\n",
       "    }\n",
       "</style>\n",
       "<table border=\"1\" class=\"dataframe\">\n",
       "  <thead>\n",
       "    <tr style=\"text-align: right;\">\n",
       "      <th></th>\n",
       "      <th>感染者数</th>\n",
       "    </tr>\n",
       "    <tr>\n",
       "      <th>職業</th>\n",
       "      <th></th>\n",
       "    </tr>\n",
       "  </thead>\n",
       "  <tbody>\n",
       "    <tr>\n",
       "      <th>JR東日本社員</th>\n",
       "      <td>1</td>\n",
       "    </tr>\n",
       "    <tr>\n",
       "      <th>アルバイト</th>\n",
       "      <td>1</td>\n",
       "    </tr>\n",
       "    <tr>\n",
       "      <th>タクシー運転手</th>\n",
       "      <td>2</td>\n",
       "    </tr>\n",
       "    <tr>\n",
       "      <th>パート</th>\n",
       "      <td>1</td>\n",
       "    </tr>\n",
       "    <tr>\n",
       "      <th>パートタイム従業員</th>\n",
       "      <td>1</td>\n",
       "    </tr>\n",
       "    <tr>\n",
       "      <th>ホームヘルパー</th>\n",
       "      <td>1</td>\n",
       "    </tr>\n",
       "    <tr>\n",
       "      <th>主婦</th>\n",
       "      <td>1</td>\n",
       "    </tr>\n",
       "    <tr>\n",
       "      <th>介護職</th>\n",
       "      <td>1</td>\n",
       "    </tr>\n",
       "    <tr>\n",
       "      <th>会社員</th>\n",
       "      <td>38</td>\n",
       "    </tr>\n",
       "    <tr>\n",
       "      <th>公務員</th>\n",
       "      <td>4</td>\n",
       "    </tr>\n",
       "    <tr>\n",
       "      <th>医師</th>\n",
       "      <td>1</td>\n",
       "    </tr>\n",
       "    <tr>\n",
       "      <th>学生</th>\n",
       "      <td>8</td>\n",
       "    </tr>\n",
       "    <tr>\n",
       "      <th>小売店従業員</th>\n",
       "      <td>1</td>\n",
       "    </tr>\n",
       "    <tr>\n",
       "      <th>検疫官</th>\n",
       "      <td>1</td>\n",
       "    </tr>\n",
       "    <tr>\n",
       "      <th>検疫所職員</th>\n",
       "      <td>1</td>\n",
       "    </tr>\n",
       "    <tr>\n",
       "      <th>無職</th>\n",
       "      <td>35</td>\n",
       "    </tr>\n",
       "    <tr>\n",
       "      <th>理学療法士</th>\n",
       "      <td>1</td>\n",
       "    </tr>\n",
       "    <tr>\n",
       "      <th>看護師</th>\n",
       "      <td>2</td>\n",
       "    </tr>\n",
       "    <tr>\n",
       "      <th>自営業</th>\n",
       "      <td>5</td>\n",
       "    </tr>\n",
       "    <tr>\n",
       "      <th>自治体職員</th>\n",
       "      <td>1</td>\n",
       "    </tr>\n",
       "    <tr>\n",
       "      <th>飲食店従業員</th>\n",
       "      <td>1</td>\n",
       "    </tr>\n",
       "  </tbody>\n",
       "</table>\n",
       "</div>"
      ],
      "text/plain": [
       "           感染者数\n",
       "職業             \n",
       "JR東日本社員       1\n",
       "アルバイト         1\n",
       "タクシー運転手       2\n",
       "パート           1\n",
       "パートタイム従業員     1\n",
       "ホームヘルパー       1\n",
       "主婦            1\n",
       "介護職           1\n",
       "会社員          38\n",
       "公務員           4\n",
       "医師            1\n",
       "学生            8\n",
       "小売店従業員        1\n",
       "検疫官           1\n",
       "検疫所職員         1\n",
       "無職           35\n",
       "理学療法士         1\n",
       "看護師           2\n",
       "自営業           5\n",
       "自治体職員         1\n",
       "飲食店従業員        1"
      ]
     },
     "execution_count": 37,
     "metadata": {},
     "output_type": "execute_result"
    }
   ],
   "source": [
    "work_df"
   ]
  },
  {
   "cell_type": "code",
   "execution_count": null,
   "metadata": {},
   "outputs": [],
   "source": []
  },
  {
   "cell_type": "code",
   "execution_count": null,
   "metadata": {},
   "outputs": [],
   "source": []
  }
 ],
 "metadata": {
  "kernelspec": {
   "display_name": "Environment (conda_corona)",
   "language": "python",
   "name": "conda_corona"
  },
  "language_info": {
   "codemirror_mode": {
    "name": "ipython",
    "version": 3
   },
   "file_extension": ".py",
   "mimetype": "text/x-python",
   "name": "python",
   "nbconvert_exporter": "python",
   "pygments_lexer": "ipython3",
   "version": "3.7.6"
  }
 },
 "nbformat": 4,
 "nbformat_minor": 4
}
